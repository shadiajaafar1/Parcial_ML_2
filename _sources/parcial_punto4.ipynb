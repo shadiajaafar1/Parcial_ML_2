{
 "cells": [
  {
   "cell_type": "markdown",
   "metadata": {},
   "source": [
    "## Librerías Utilizadas"
   ]
  },
  {
   "cell_type": "code",
   "execution_count": 1,
   "metadata": {},
   "outputs": [],
   "source": [
    "import numpy as np\n",
    "import pandas as pd\n",
    "from sklearn.model_selection import cross_val_score\n",
    "from sklearn.tree import DecisionTreeRegressor\n",
    "from sklearn.ensemble import RandomForestRegressor\n",
    "from xgboost import XGBRegressor\n",
    "from sklearn.neighbors import KNeighborsRegressor\n",
    "from sklearn.linear_model import BayesianRidge, Ridge, Lasso\n",
    "from sklearn.metrics import mean_squared_error\n",
    "from hyperopt import hp, fmin, tpe, Trials, space_eval, STATUS_OK\n",
    "import warnings\n",
    "import ssl\n",
    "ssl._create_default_https_context = ssl._create_unverified_context\n",
    "warnings.filterwarnings(\"ignore\")"
   ]
  },
  {
   "cell_type": "markdown",
   "metadata": {},
   "source": [
    "Iniciamos cargando el conjunto de datos"
   ]
  },
  {
   "cell_type": "code",
   "execution_count": 2,
   "metadata": {},
   "outputs": [],
   "source": [
    "wind = pd.read_csv(\"https://raw.githubusercontent.com/lihkir/Data/main/wind_speed/data_treino_dv_df_2000_2010.csv\")"
   ]
  },
  {
   "cell_type": "markdown",
   "metadata": {},
   "source": [
    "Renombranos las columnas"
   ]
  },
  {
   "cell_type": "code",
   "execution_count": 3,
   "metadata": {},
   "outputs": [],
   "source": [
    "columnas = {'HORA (UTC)': 'hora', 'VENTO, DIREï¿½ï¿½O HORARIA (gr) (ï¿½ (gr))': 'direccion_viento', \n",
    "            'VENTO, VELOCIDADE HORARIA (m/s)': 'velocidad_viento', 'UMIDADE REL. MAX. NA HORA ANT. (AUT) (%)': 'humedad_max',\n",
    "            'UMIDADE REL. MIN. NA HORA ANT. (AUT) (%)': 'humedad_min', 'TEMPERATURA Mï¿½XIMA NA HORA ANT. (AUT) (ï¿½C)': 'temperatura_max',\n",
    "            'TEMPERATURA Mï¿½NIMA NA HORA ANT. (AUT) (ï¿½C)': 'temperatura_min', 'UMIDADE RELATIVA DO AR, HORARIA (%)': 'humedad_horaria',\n",
    "            'PRESSAO ATMOSFERICA AO NIVEL DA ESTACAO, HORARIA (mB)': 'pres_atmosferica', 'PRECIPITAï¿½ï¿½O TOTAL, HORï¿½RIO (mm)': 'precipitacion_hora',\n",
    "            'VENTO, RAJADA MAXIMA (m/s)': 'rafaga_max', 'PRESSï¿½O ATMOSFERICA MAX.NA HORA ANT. (AUT) (mB)': 'pres_atmosferica_max', 'PRESSï¿½O ATMOSFERICA MIN. NA HORA ANT. (AUT) (mB)': 'pres_atmosferica_min'}\n",
    "wind = wind.rename(columns=columnas)"
   ]
  },
  {
   "cell_type": "markdown",
   "metadata": {},
   "source": [
    "Observamos la naturaleza de la cada columna y comprobamos que no hayan nulos."
   ]
  },
  {
   "cell_type": "code",
   "execution_count": 4,
   "metadata": {},
   "outputs": [
    {
     "name": "stdout",
     "output_type": "stream",
     "text": [
      "<class 'pandas.core.frame.DataFrame'>\n",
      "RangeIndex: 87693 entries, 0 to 87692\n",
      "Data columns (total 13 columns):\n",
      " #   Column                Non-Null Count  Dtype  \n",
      "---  ------                --------------  -----  \n",
      " 0   hora                  87693 non-null  object \n",
      " 1   direccion_viento      87693 non-null  float64\n",
      " 2   velocidad_viento      87693 non-null  float64\n",
      " 3   humedad_max           87693 non-null  float64\n",
      " 4   humedad_min           87693 non-null  float64\n",
      " 5   temperatura_max       87693 non-null  float64\n",
      " 6   temperatura_min       87693 non-null  float64\n",
      " 7   humedad_horaria       87693 non-null  float64\n",
      " 8   pres_atmosferica      87693 non-null  float64\n",
      " 9   precipitacion_hora    87693 non-null  float64\n",
      " 10  rafaga_max            87693 non-null  float64\n",
      " 11  pres_atmosferica_max  87693 non-null  float64\n",
      " 12  pres_atmosferica_min  87693 non-null  float64\n",
      "dtypes: float64(12), object(1)\n",
      "memory usage: 8.7+ MB\n"
     ]
    }
   ],
   "source": [
    "wind.info()"
   ]
  },
  {
   "cell_type": "code",
   "execution_count": 5,
   "metadata": {},
   "outputs": [
    {
     "data": {
      "text/html": [
       "<div>\n",
       "<style scoped>\n",
       "    .dataframe tbody tr th:only-of-type {\n",
       "        vertical-align: middle;\n",
       "    }\n",
       "\n",
       "    .dataframe tbody tr th {\n",
       "        vertical-align: top;\n",
       "    }\n",
       "\n",
       "    .dataframe thead th {\n",
       "        text-align: right;\n",
       "    }\n",
       "</style>\n",
       "<table border=\"1\" class=\"dataframe\">\n",
       "  <thead>\n",
       "    <tr style=\"text-align: right;\">\n",
       "      <th></th>\n",
       "      <th>hora</th>\n",
       "      <th>direccion_viento</th>\n",
       "      <th>velocidad_viento</th>\n",
       "      <th>humedad_max</th>\n",
       "      <th>humedad_min</th>\n",
       "      <th>temperatura_max</th>\n",
       "      <th>temperatura_min</th>\n",
       "      <th>humedad_horaria</th>\n",
       "      <th>pres_atmosferica</th>\n",
       "      <th>precipitacion_hora</th>\n",
       "      <th>rafaga_max</th>\n",
       "      <th>pres_atmosferica_max</th>\n",
       "      <th>pres_atmosferica_min</th>\n",
       "    </tr>\n",
       "  </thead>\n",
       "  <tbody>\n",
       "    <tr>\n",
       "      <th>0</th>\n",
       "      <td>12:00</td>\n",
       "      <td>0.809017</td>\n",
       "      <td>1.8</td>\n",
       "      <td>69.0</td>\n",
       "      <td>60.0</td>\n",
       "      <td>22.6</td>\n",
       "      <td>20.7</td>\n",
       "      <td>61.0</td>\n",
       "      <td>888.2</td>\n",
       "      <td>0.0</td>\n",
       "      <td>3.8</td>\n",
       "      <td>888.2</td>\n",
       "      <td>887.7</td>\n",
       "    </tr>\n",
       "    <tr>\n",
       "      <th>1</th>\n",
       "      <td>13:00</td>\n",
       "      <td>0.965926</td>\n",
       "      <td>2.7</td>\n",
       "      <td>62.0</td>\n",
       "      <td>55.0</td>\n",
       "      <td>24.2</td>\n",
       "      <td>22.5</td>\n",
       "      <td>55.0</td>\n",
       "      <td>888.4</td>\n",
       "      <td>0.0</td>\n",
       "      <td>4.7</td>\n",
       "      <td>888.4</td>\n",
       "      <td>888.2</td>\n",
       "    </tr>\n",
       "    <tr>\n",
       "      <th>2</th>\n",
       "      <td>14:00</td>\n",
       "      <td>0.891007</td>\n",
       "      <td>2.0</td>\n",
       "      <td>56.0</td>\n",
       "      <td>50.0</td>\n",
       "      <td>25.5</td>\n",
       "      <td>24.3</td>\n",
       "      <td>51.0</td>\n",
       "      <td>888.1</td>\n",
       "      <td>0.0</td>\n",
       "      <td>4.9</td>\n",
       "      <td>888.4</td>\n",
       "      <td>888.1</td>\n",
       "    </tr>\n",
       "    <tr>\n",
       "      <th>3</th>\n",
       "      <td>15:00</td>\n",
       "      <td>0.848048</td>\n",
       "      <td>2.5</td>\n",
       "      <td>52.0</td>\n",
       "      <td>44.0</td>\n",
       "      <td>27.4</td>\n",
       "      <td>25.0</td>\n",
       "      <td>44.0</td>\n",
       "      <td>887.4</td>\n",
       "      <td>0.0</td>\n",
       "      <td>5.8</td>\n",
       "      <td>888.1</td>\n",
       "      <td>887.4</td>\n",
       "    </tr>\n",
       "    <tr>\n",
       "      <th>4</th>\n",
       "      <td>16:00</td>\n",
       "      <td>0.224951</td>\n",
       "      <td>2.4</td>\n",
       "      <td>50.0</td>\n",
       "      <td>43.0</td>\n",
       "      <td>27.1</td>\n",
       "      <td>25.5</td>\n",
       "      <td>46.0</td>\n",
       "      <td>886.5</td>\n",
       "      <td>0.0</td>\n",
       "      <td>5.8</td>\n",
       "      <td>887.4</td>\n",
       "      <td>886.5</td>\n",
       "    </tr>\n",
       "  </tbody>\n",
       "</table>\n",
       "</div>"
      ],
      "text/plain": [
       "    hora  direccion_viento  velocidad_viento  humedad_max  humedad_min  \\\n",
       "0  12:00          0.809017               1.8         69.0         60.0   \n",
       "1  13:00          0.965926               2.7         62.0         55.0   \n",
       "2  14:00          0.891007               2.0         56.0         50.0   \n",
       "3  15:00          0.848048               2.5         52.0         44.0   \n",
       "4  16:00          0.224951               2.4         50.0         43.0   \n",
       "\n",
       "   temperatura_max  temperatura_min  humedad_horaria  pres_atmosferica  \\\n",
       "0             22.6             20.7             61.0             888.2   \n",
       "1             24.2             22.5             55.0             888.4   \n",
       "2             25.5             24.3             51.0             888.1   \n",
       "3             27.4             25.0             44.0             887.4   \n",
       "4             27.1             25.5             46.0             886.5   \n",
       "\n",
       "   precipitacion_hora  rafaga_max  pres_atmosferica_max  pres_atmosferica_min  \n",
       "0                 0.0         3.8                 888.2                 887.7  \n",
       "1                 0.0         4.7                 888.4                 888.2  \n",
       "2                 0.0         4.9                 888.4                 888.1  \n",
       "3                 0.0         5.8                 888.1                 887.4  \n",
       "4                 0.0         5.8                 887.4                 886.5  "
      ]
     },
     "execution_count": 5,
     "metadata": {},
     "output_type": "execute_result"
    }
   ],
   "source": [
    "wind.head()"
   ]
  },
  {
   "cell_type": "markdown",
   "metadata": {},
   "source": [
    "Observamos las primeras filas del Dataset.\n",
    "\n",
    "Dividimos los datos en las variables explicativas y la variable respuesta."
   ]
  },
  {
   "cell_type": "code",
   "execution_count": 6,
   "metadata": {},
   "outputs": [],
   "source": [
    "X = wind.drop(columns=['velocidad_viento', 'hora'])\n",
    "y = wind['velocidad_viento']"
   ]
  },
  {
   "cell_type": "markdown",
   "metadata": {},
   "source": [
    "Diccionario de los modelos de regresión que serán implementados."
   ]
  },
  {
   "cell_type": "code",
   "execution_count": 7,
   "metadata": {},
   "outputs": [],
   "source": [
    "model_dict = {\n",
    "    'Decision Tree': DecisionTreeRegressor(),\n",
    "    'Random Forest': RandomForestRegressor(n_jobs=-1),\n",
    "    'XGBoost': XGBRegressor(njobs=-1),\n",
    "    'K-NN': KNeighborsRegressor(n_jobs=-1),\n",
    "    'Bayesian Regression': BayesianRidge(),\n",
    "    'Ridge Regression': Ridge(),\n",
    "    'Lasso Regression': Lasso()\n",
    "}"
   ]
  },
  {
   "cell_type": "markdown",
   "metadata": {},
   "source": [
    "Entrenamos cada modelo y obtenemos sus métricas para cada ventana de predicción: T= 7, 14, 21, 28\n"
   ]
  },
  {
   "cell_type": "code",
   "execution_count": 8,
   "metadata": {},
   "outputs": [
    {
     "name": "stdout",
     "output_type": "stream",
     "text": [
      "                Modelo      RMSE       MAPE       R^2\n",
      "0  Bayesian Regression  0.731257  32.197633  0.659042\n",
      "1        Decision Tree  0.837088  40.058707  0.583179\n",
      "2                 K-NN  0.727605  38.594042  0.683993\n",
      "3     Lasso Regression  0.761347  48.260296  0.655710\n",
      "4        Random Forest  0.586544  30.373149  0.795329\n",
      "5     Ridge Regression  0.733370  32.205976  0.656357\n",
      "6              XGBoost  0.587362  30.077084  0.794795\n",
      "El mejor modelo es: Random Forest con un RMSE de 0.5865439634378188\n"
     ]
    }
   ],
   "source": [
    "def percentage_error(actual, predicted):\n",
    "    res = np.empty(actual.shape)\n",
    "    for j in range(actual.shape[0]):\n",
    "        if actual[j] != 0:\n",
    "            res[j] = (actual[j] - predicted[j]) / actual[j]\n",
    "        else:\n",
    "            res[j] = predicted[j] / np.mean(actual)\n",
    "    return res\n",
    "\n",
    "def MAPE(y_true, y_pred): \n",
    "    return np.mean(np.abs(percentage_error(np.asarray(y_true), np.asarray(y_pred)))) * 100\n",
    "\n",
    "# Establecemos las ventanas temporales que queremos evaluar\n",
    "time_windows = [7, 14, 21, 28]\n",
    "\n",
    "# Lista para recopilar los resultados\n",
    "all_results = []\n",
    "\n",
    "# Iterar sobre cada ventana temporal\n",
    "for T in time_windows:\n",
    "    # Crea un conjunto de entrenamiento que incrementa su tamaño en cada iteración\n",
    "    for start in range(len(X) - T):\n",
    "        end = start + T\n",
    "        X_train, y_train = X.iloc[start:end], y.iloc[start:end]\n",
    "        X_test, y_test = X.iloc[end:end + 1], y.iloc[end:end + 1]\n",
    "        \n",
    "        # Entrenar y evaluar cada modelo\n",
    "        for name, model in model_dict.items():\n",
    "            model.fit(X_train, y_train)\n",
    "            y_pred = model.predict(X_test)\n",
    "            \n",
    "            rmse = mean_squared_error(y_test, y_pred, squared=False)\n",
    "            mape = MAPE(y_test, y_pred)\n",
    "            r2 = model.score(X_test, y_test)\n",
    "            \n",
    "            all_results.append({\n",
    "                'Modelo': name,\n",
    "                'RMSE': rmse,\n",
    "                'MAPE': mape,\n",
    "                'R^2': r2\n",
    "            })\n",
    "\n",
    "results_df = pd.DataFrame(all_results)\n",
    "average_results = results_df.groupby('Modelo').mean().reset_index()\n",
    "best_model = average_results.loc[average_results['RMSE'].idxmin()] \n",
    "\n",
    "print(average_results)\n",
    "print(f\"El mejor modelo es: {best_model['Modelo']} con un RMSE de {best_model['RMSE']}\")"
   ]
  },
  {
   "cell_type": "markdown",
   "metadata": {},
   "source": [
    " El modelo de Random Forest tiene el RMSE más bajo (0.586544), el cuarto MAPE más bajo (30.373149), y el R² más alto (0.795329), lo que indica que es el modelo con el mejor rendimiento general de los presentados. "
   ]
  },
  {
   "cell_type": "markdown",
   "metadata": {},
   "source": [
    "Ahora realizamos la optimización bayesiana para obtener los mejores hiperparámetros para Radom Forest."
   ]
  },
  {
   "cell_type": "code",
   "execution_count": 15,
   "metadata": {},
   "outputs": [
    {
     "name": "stdout",
     "output_type": "stream",
     "text": [
      "100%|██████████| 100/100 [1:02:19<00:00, 37.40s/trial, best loss: 0.32683632778260685]\n",
      "Mejores hiperparámetros encontrados: {'bootstrap': True, 'max_depth': 30.0, 'max_features': 0.5533599223455185, 'min_samples_leaf': 10.0, 'min_samples_split': 15.0, 'n_estimators': 661.0}\n"
     ]
    }
   ],
   "source": [
    "# Definición del espacio de búsqueda\n",
    "space = {\n",
    "    'n_estimators': hp.quniform('n_estimators', 100, 1000, 1),  \n",
    "    'max_depth': hp.quniform('max_depth', 10, 30, 1),           \n",
    "    'min_samples_split': hp.quniform('min_samples_split', 2, 20, 1),  \n",
    "    'min_samples_leaf': hp.quniform('min_samples_leaf', 1, 20, 1),    \n",
    "    'max_features': hp.uniform('max_features', 0.1, 0.9),             \n",
    "    'bootstrap': hp.choice('bootstrap', [True, False])           \n",
    "}\n",
    "\n",
    "# Creación de la función objetivo\n",
    "def hyperopt_objective(params):\n",
    "    params['n_estimators'] = int(params['n_estimators'])\n",
    "    params['max_depth'] = int(params['max_depth'])\n",
    "    params['min_samples_split'] = int(params['min_samples_split'])\n",
    "    params['min_samples_leaf'] = int(params['min_samples_leaf'])\n",
    "    clf = RandomForestRegressor(**params, n_jobs=-1)\n",
    "    score = -cross_val_score(clf, X, y, cv=5, scoring='neg_mean_squared_error').mean()\n",
    "    return {'loss': score, 'status': STATUS_OK}\n",
    "\n",
    "# Ejecución de la optimización bayesiana\n",
    "trials=Trials()\n",
    "best_params = fmin(\n",
    "    fn=hyperopt_objective,\n",
    "    space=space,\n",
    "    algo=tpe.suggest,\n",
    "    max_evals=100,\n",
    "    trials=trials \n",
    ")\n",
    "\n",
    "# Calcula los hiperparámetros reales a partir de los índices\n",
    "best_params = space_eval(space, best_params)\n",
    "\n",
    "print(f\"Mejores hiperparámetros encontrados: {best_params}\")"
   ]
  },
  {
   "cell_type": "markdown",
   "metadata": {},
   "source": [
    "Los mejores hiperparámetros obtenidos por la optimización  bayesiana son:\n",
    "- 'bootstrap': True\n",
    "\n",
    "- 'max_depth': 30.0\n",
    "\n",
    "- 'max_features': 0.5533599223455185\n",
    "\n",
    "- 'min_samples_leaf': 10.0\n",
    "\n",
    "- 'min_samples_split': 15.0\n",
    "\n",
    "- 'n_estimators': 661.0"
   ]
  },
  {
   "cell_type": "markdown",
   "metadata": {},
   "source": [
    "Ahora, usando los mejores hiperparámetros que obtuvimos, volveremos a ajustar el modelo y encontraremos la mejor ventana de predicción."
   ]
  },
  {
   "cell_type": "code",
   "execution_count": 12,
   "metadata": {},
   "outputs": [
    {
     "name": "stdout",
     "output_type": "stream",
     "text": [
      "   Ventana Temporal  RMSE Mean  RMSE Std\n",
      "0                 7   0.576399  0.012516\n",
      "1                14   0.576619  0.024397\n",
      "3                28   0.576846  0.042395\n",
      "2                21   0.577083  0.038759\n"
     ]
    }
   ],
   "source": [
    "best_params = {\n",
    "    'bootstrap': True,\n",
    "    'max_depth': int(30.0),\n",
    "    'max_features': 0.5533599223455185, \n",
    "    'min_samples_leaf': int(10.0),\n",
    "    'min_samples_split': int(15.0),\n",
    "    'n_estimators': int(661.0)\n",
    "}\n",
    "\n",
    "best_rf = RandomForestRegressor(**best_params)\n",
    "\n",
    "time_windows = [7, 14, 21, 28]\n",
    "results_by_window = []\n",
    "\n",
    "for T in time_windows:\n",
    "    rmse_list = []\n",
    "\n",
    "    for start in range(len(X) - T + 1):\n",
    "        end = start + T\n",
    "        X_train, y_train = X.iloc[start:end], y.iloc[start:end]\n",
    "        X_test, y_test = X.iloc[end:end + 1], y.iloc[end:end + 1]\n",
    "        \n",
    "        best_rf.fit(X_train, y_train)\n",
    "        y_pred = best_rf.predict(X_test)\n",
    "        rmse = mean_squared_error(y_test, y_pred, squared=False)\n",
    "        rmse_list.append(rmse)\n",
    "\n",
    "    results_by_window.append({\n",
    "        'Ventana Temporal': T,\n",
    "        'RMSE Mean': np.mean(rmse_list),\n",
    "        'RMSE Std': np.std(rmse_list)\n",
    "    })\n",
    "\n",
    "final_results_df = pd.DataFrame(results_by_window)\n",
    "final_results_df.sort_values('RMSE Mean', inplace=True)\n",
    "print(final_results_df)\n"
   ]
  },
  {
   "cell_type": "code",
   "execution_count": 13,
   "metadata": {},
   "outputs": [
    {
     "name": "stdout",
     "output_type": "stream",
     "text": [
      "Ventana temporal con el mejor rendimiento para Random Forest: T = 7 días con un RMSE de 0.5763988652212694\n"
     ]
    }
   ],
   "source": [
    "best_window = final_results_df.iloc[0]\n",
    "print(f\"Ventana temporal con el mejor rendimiento para Random Forest: T = {best_window['Ventana Temporal']} días con un RMSE de {best_window['RMSE Mean']}\")"
   ]
  },
  {
   "cell_type": "markdown",
   "metadata": {},
   "source": [
    "Teniendo en cuenta las métricas podemos concluir que la mejor ventana de predicción es 7 con un RMSE de (0.57)"
   ]
  }
 ],
 "metadata": {
  "kernelspec": {
   "display_name": ".venv",
   "language": "python",
   "name": "python3"
  },
  "language_info": {
   "codemirror_mode": {
    "name": "ipython",
    "version": 3
   },
   "file_extension": ".py",
   "mimetype": "text/x-python",
   "name": "python",
   "nbconvert_exporter": "python",
   "pygments_lexer": "ipython3",
   "version": "3.11.2"
  }
 },
 "nbformat": 4,
 "nbformat_minor": 2
}
